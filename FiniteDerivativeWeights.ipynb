{
 "cells": [
  {
   "cell_type": "code",
   "execution_count": 1,
   "metadata": {},
   "outputs": [],
   "source": [
    "import numpy as np"
   ]
  },
  {
   "cell_type": "code",
   "execution_count": 2,
   "metadata": {},
   "outputs": [],
   "source": [
    "import sympy as sp"
   ]
  },
  {
   "cell_type": "code",
   "execution_count": 335,
   "metadata": {},
   "outputs": [],
   "source": [
    "def gen_name(point):\n",
    "    return \"f(\" + str(point[0]) + '_' + str(point[1]) +')'\n",
    "\n",
    "def gen_names(points):\n",
    "    res = \"f\"\n",
    "    for p in points:\n",
    "        res += ' ' + gen_name(p)\n",
    "    return res"
   ]
  },
  {
   "cell_type": "code",
   "execution_count": 336,
   "metadata": {},
   "outputs": [],
   "source": [
    "points = [(0, 0), (2,0), (-2,0), (0,2), (0,-2)]\n",
    "x,y = sp.symbols('x y')\n",
    "coefs = {2:[1,x,y,x**2/2, y**2/2,x*y]}\n",
    "def generate_row(point, order):\n",
    "    return [c.subs([(x,point[0]), (y, point[1])]).evalf() if c != 1 else 1 for c in coefs[order]]\n",
    "\n",
    "def generate_matrix(points, order):\n",
    "    return np.matrix([generate_row(p,order) for p in points], dtype=np.float)"
   ]
  },
  {
   "cell_type": "code",
   "execution_count": 337,
   "metadata": {},
   "outputs": [],
   "source": [
    "M = generate_matrix(points,2).T"
   ]
  },
  {
   "cell_type": "code",
   "execution_count": 338,
   "metadata": {},
   "outputs": [],
   "source": [
    "import scipy.linalg"
   ]
  },
  {
   "cell_type": "code",
   "execution_count": 339,
   "metadata": {},
   "outputs": [],
   "source": [
    "right = np.array([[0,1,0,0,0,0],[0,0,1,0,0,0]]).T"
   ]
  },
  {
   "cell_type": "code",
   "execution_count": 340,
   "metadata": {},
   "outputs": [],
   "source": [
    "sol_x = scipy.linalg.pinv(M).dot(right)"
   ]
  },
  {
   "cell_type": "code",
   "execution_count": 341,
   "metadata": {},
   "outputs": [],
   "source": [
    "dx_result = sum([kx*sx for kx,sx in zip(sol_x,sp.symbols(gen_names(points)) )])"
   ]
  },
  {
   "cell_type": "code",
   "execution_count": 342,
   "metadata": {},
   "outputs": [
    {
     "data": {
      "text/plain": [
       "matrix([[0, 1/4, -1/4, 0, 0],\n",
       "        [0, 0, 0, 1/4, -1/4]], dtype=object)"
      ]
     },
     "execution_count": 342,
     "metadata": {},
     "output_type": "execute_result"
    }
   ],
   "source": [
    "Z = sp.symbols('Z')\n",
    "np.matrix([[sp.nsimplify((sx*Z),tolerance = 1e-3).subs(Z,1) for sx in sol_xi] for sol_xi in sol_x.T])"
   ]
  },
  {
   "cell_type": "code",
   "execution_count": 343,
   "metadata": {},
   "outputs": [],
   "source": [
    "def gen_coefs(points, order=2):\n",
    "    M = generate_matrix(points,order).T\n",
    "    right = np.array([[0,1,0,0,0,0],[0,0,1,0,0,0]]).T\n",
    "    sol_x = scipy.linalg.pinv(M).dot(right)\n",
    "    Z = sp.symbols('Z')\n",
    "    return np.matrix([[sp.nsimplify((sx*Z),tolerance = 1e-3).subs(Z,1) for sx in sol_xi] for sol_xi in sol_x.T])\n",
    "    "
   ]
  },
  {
   "cell_type": "code",
   "execution_count": 346,
   "metadata": {},
   "outputs": [],
   "source": [
    "def I(x,y):\n",
    "    return (x,y)\n",
    "all_points_q = [\n",
    "    [I(0, 0), I(2, 0), I(-2, 0), I(0, 2), I(0, -2)],\n",
    "    [I(-2,-2), I(0,-2), I(2,-2), I(-2,0), I(0,0), I(2,0), I(-2,2), I(0,2), I(2,2)],\n",
    "    [I(-1,-2), I(1,-2), I(-1,0), I(1,0), I(-1,2), I(1,2)],\n",
    "    [I(-2,-1), I(0,-1), I(2,-1), I(-2,1), I(0,1), I(2,1)],\n",
    "    [I(-1,-1), I(1,-1), I(-1,1), I(1,1)],\n",
    "    [I(-3,-2), I(-1,-2), I(1,-2), I(3,-2), I(-3,0), I(-1,0), I(1,0), I(3,0), I(-3,2), I(-1,2), I(1,2), I(3,2)],\n",
    "    [I(-2,-3), I(0,-3), I(2,-3), I(-2,-1), I(0,-1), I(2,-1), I(-2,1), I(0,1), I(2,1), I(-2,3), I(0,3), I(2,3)],\n",
    "    [I(-3,-3), I(-1,-3), I(1,-3), I(3,-3), I(-3,-1), I(-1,-1), I(1,-1), I(3,-1), I(-3,1), I(-1,1), I(1,1), I(3,1), I(-3,3), I(-1,3), I(1,3), I(3,3)]\n",
    "]"
   ]
  },
  {
   "cell_type": "markdown",
   "metadata": {},
   "source": [
    "### format - first row is for $\\frac{\\partial f}{\\partial x}$, second row is for $\\frac{\\partial f}{\\partial y}$"
   ]
  },
  {
   "cell_type": "markdown",
   "metadata": {},
   "source": [
    "#### 1) quadratic net"
   ]
  },
  {
   "cell_type": "code",
   "execution_count": 347,
   "metadata": {},
   "outputs": [
    {
     "name": "stdout",
     "output_type": "stream",
     "text": [
      "[[0 1/4 -1/4 0 0]\n",
      " [0 0 0 1/4 -1/4]]\n",
      "[[-1/12 0 1/12 -1/12 0 1/12 -1/12 0 1/12]\n",
      " [-1/12 -1/12 -1/12 0 0 0 1/12 1/12 1/12]]\n",
      "[[-1/6 1/6 -1/6 1/6 -1/6 1/6]\n",
      " [-1/8 -1/8 0 0 1/8 1/8]]\n",
      "[[-1/8 0 1/8 -1/8 0 1/8]\n",
      " [-1/6 -1/6 -1/6 1/6 1/6 1/6]]\n",
      "[[-1/4 1/4 -1/4 1/4]\n",
      " [-1/4 -1/4 1/4 1/4]]\n",
      "[[-1/20 -1/60 1/60 1/20 -1/20 -1/60 1/60 1/20 -1/20 -1/60 1/60 1/20]\n",
      " [-1/16 -1/16 -1/16 -1/16 0 0 0 0 1/16 1/16 1/16 1/16]]\n",
      "[[-1/16 0 1/16 -1/16 0 1/16 -1/16 0 1/16 -1/16 0 1/16]\n",
      " [-1/20 -1/20 -1/20 -1/60 -1/60 -1/60 1/60 1/60 1/60 1/20 1/20 1/20]]\n",
      "[[-3/80 -1/80 1/80 3/80 -3/80 -1/80 1/80 3/80 -3/80 -1/80 1/80 3/80 -3/80\n",
      "  -1/80 1/80 3/80]\n",
      " [-3/80 -3/80 -3/80 -3/80 -1/80 -1/80 -1/80 -1/80 1/80 1/80 1/80 1/80\n",
      "  3/80 3/80 3/80 3/80]]\n"
     ]
    }
   ],
   "source": [
    "for pts in all_points_q:\n",
    "    print(gen_coefs(pts))"
   ]
  },
  {
   "cell_type": "code",
   "execution_count": 348,
   "metadata": {},
   "outputs": [],
   "source": [
    "all_points_d = [\n",
    "    [I(-1,-1), I(1,-1), I(0,0), I(-1,1), I(1,1)],\n",
    "    [I(0,-1), I(-1,0), I(1,0), I(0,1)],\n",
    "    [I(-2,-2), I(0,-2), I(2,-2), I(-1,-1), I(1,-1), I(-2,0), I(0,0), I(2,0), I(-1,1), I(1,1), I(-2,2), I(0,2), I(2,2)],\n",
    "    [I(-1,-2), I(1,-2), I(-2,-1), I(0,-1), I(2,-1), I(-1,0), I(1,0), I(-2,1), I(0,1), I(2,1), I(-1,2), I(1,2)],\n",
    "    [I(-3,-3), I(-1,-3), I(1,-3), I(3,-3), I(-2,-2), I(0,-2), I(2,-2), I(-3,-1), I(-1,-1), I(1,-1), I(3,-1), I(-2,0), I(0,0), I(2,0), I(-3,1), I(-1,1), I(1,1), I(3,1), I(-2,2), I(0,2), I(2,2), I(-3,3), I(-1,3), I(1,3), I(3,3)],\n",
    "    [I(-2,-3), I(0,-3), I(2,-3), I(-3,-2), I(-1,-2), I(1,-2), I(3,-2), I(-2,-1), I(0,-1), I(2,-1), I(-3,0), I(-1,0), I(1,0), I(3,0), I(-2,1), I(0,1), I(2,1), I(-3,2), I(-1,2), I(1,2), I(3,2), I(-2,3), I(0,3), I(2,3)]\n",
    "]"
   ]
  },
  {
   "cell_type": "markdown",
   "metadata": {},
   "source": [
    "#### 2) diagonal net"
   ]
  },
  {
   "cell_type": "code",
   "execution_count": 349,
   "metadata": {},
   "outputs": [
    {
     "name": "stdout",
     "output_type": "stream",
     "text": [
      "[[-1/4 1/4 0 -1/4 1/4]\n",
      " [-1/4 -1/4 0 1/4 1/4]]\n",
      "[[0 -1/2 1/2 0]\n",
      " [-1/2 0 0 1/2]]\n",
      "[[-1/14 0 1/14 -1/28 1/28 -1/14 0 1/14 -1/28 1/28 -1/14 0 1/14]\n",
      " [-1/14 -1/14 -1/14 -1/28 -1/28 0 0 0 1/28 1/28 1/14 1/14 1/14]]\n",
      "[[-1/22 1/22 -1/11 0 1/11 -1/22 1/22 -1/11 0 1/11 -1/22 1/22]\n",
      " [-1/11 -1/11 -1/22 -1/22 -1/22 0 0 1/22 1/22 1/22 1/11 1/11]]\n",
      "[[-3/104 -1/104 1/104 3/104 -1/52 0 1/52 -3/104 -1/104 1/104 3/104 -1/52\n",
      "  0 1/52 -3/104 -1/104 1/104 3/104 -1/52 0 1/52 -3/104 -1/104 1/104 3/104]\n",
      " [-3/104 -3/104 -3/104 -3/104 -1/52 -1/52 -1/52 -1/104 -1/104 -1/104\n",
      "  -1/104 0 0 0 1/104 1/104 1/104 1/104 1/52 1/52 1/52 3/104 3/104 3/104\n",
      "  3/104]]\n",
      "[[-1/46 0 1/46 -3/92 -1/92 1/92 3/92 -1/46 0 1/46 -3/92 -1/92 1/92 3/92\n",
      "  -1/46 0 1/46 -3/92 -1/92 1/92 3/92 -1/46 0 1/46]\n",
      " [-3/92 -3/92 -3/92 -1/46 -1/46 -1/46 -1/46 -1/92 -1/92 -1/92 0 0 0 0\n",
      "  1/92 1/92 1/92 1/46 1/46 1/46 1/46 3/92 3/92 3/92]]\n"
     ]
    }
   ],
   "source": [
    "for pts in all_points_d:\n",
    "    print(gen_coefs(pts))"
   ]
  }
 ],
 "metadata": {
  "kernelspec": {
   "display_name": "Python 3",
   "language": "python",
   "name": "python3"
  },
  "language_info": {
   "codemirror_mode": {
    "name": "ipython",
    "version": 3
   },
   "file_extension": ".py",
   "mimetype": "text/x-python",
   "name": "python",
   "nbconvert_exporter": "python",
   "pygments_lexer": "ipython3",
   "version": "3.6.5"
  }
 },
 "nbformat": 4,
 "nbformat_minor": 2
}
